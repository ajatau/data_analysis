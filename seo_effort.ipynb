{
 "cells": [
  {
   "cell_type": "code",
   "execution_count": 1,
   "metadata": {},
   "outputs": [],
   "source": [
    "import pandas as pd"
   ]
  },
  {
   "cell_type": "code",
   "execution_count": 86,
   "metadata": {},
   "outputs": [],
   "source": [
    "data = pd.read_csv('assignment_ds_marketing.csv')"
   ]
  },
  {
   "cell_type": "code",
   "execution_count": 3,
   "metadata": {},
   "outputs": [
    {
     "data": {
      "text/html": [
       "<div>\n",
       "<style scoped>\n",
       "    .dataframe tbody tr th:only-of-type {\n",
       "        vertical-align: middle;\n",
       "    }\n",
       "\n",
       "    .dataframe tbody tr th {\n",
       "        vertical-align: top;\n",
       "    }\n",
       "\n",
       "    .dataframe thead th {\n",
       "        text-align: right;\n",
       "    }\n",
       "</style>\n",
       "<table border=\"1\" class=\"dataframe\">\n",
       "  <thead>\n",
       "    <tr style=\"text-align: right;\">\n",
       "      <th></th>\n",
       "      <th>visit_date</th>\n",
       "      <th>destinations</th>\n",
       "      <th>visitors</th>\n",
       "      <th>language</th>\n",
       "      <th>is_focus</th>\n",
       "    </tr>\n",
       "  </thead>\n",
       "  <tbody>\n",
       "    <tr>\n",
       "      <td>0</td>\n",
       "      <td>2019-03-01</td>\n",
       "      <td>aaa</td>\n",
       "      <td>6.508048</td>\n",
       "      <td>en</td>\n",
       "      <td>0</td>\n",
       "    </tr>\n",
       "    <tr>\n",
       "      <td>1</td>\n",
       "      <td>2019-04-01</td>\n",
       "      <td>aab</td>\n",
       "      <td>2.099370</td>\n",
       "      <td>en</td>\n",
       "      <td>0</td>\n",
       "    </tr>\n",
       "    <tr>\n",
       "      <td>2</td>\n",
       "      <td>2019-01-01</td>\n",
       "      <td>aac</td>\n",
       "      <td>44.086774</td>\n",
       "      <td>en</td>\n",
       "      <td>0</td>\n",
       "    </tr>\n",
       "    <tr>\n",
       "      <td>3</td>\n",
       "      <td>2018-05-01</td>\n",
       "      <td>aad</td>\n",
       "      <td>0.209937</td>\n",
       "      <td>en</td>\n",
       "      <td>0</td>\n",
       "    </tr>\n",
       "    <tr>\n",
       "      <td>4</td>\n",
       "      <td>2019-06-01</td>\n",
       "      <td>aae</td>\n",
       "      <td>100.349895</td>\n",
       "      <td>de</td>\n",
       "      <td>0</td>\n",
       "    </tr>\n",
       "  </tbody>\n",
       "</table>\n",
       "</div>"
      ],
      "text/plain": [
       "   visit_date destinations    visitors language  is_focus\n",
       "0  2019-03-01          aaa    6.508048       en         0\n",
       "1  2019-04-01          aab    2.099370       en         0\n",
       "2  2019-01-01          aac   44.086774       en         0\n",
       "3  2018-05-01          aad    0.209937       en         0\n",
       "4  2019-06-01          aae  100.349895       de         0"
      ]
     },
     "execution_count": 3,
     "metadata": {},
     "output_type": "execute_result"
    }
   ],
   "source": [
    "data.head()"
   ]
  },
  {
   "cell_type": "code",
   "execution_count": null,
   "metadata": {},
   "outputs": [],
   "source": [
    "### Convert visit_date to a datetime format\n",
    "data['visit_date'] = pd.to_datetime(data['visit_date'],format='%Y-%m-%d)"
   ]
  },
  {
   "cell_type": "code",
   "execution_count": 4,
   "metadata": {},
   "outputs": [
    {
     "data": {
      "text/plain": [
       "(93273, 5)"
      ]
     },
     "execution_count": 4,
     "metadata": {},
     "output_type": "execute_result"
    }
   ],
   "source": [
    "data.shape"
   ]
  },
  {
   "cell_type": "markdown",
   "metadata": {},
   "source": [
    "## Dealing with only Focus group"
   ]
  },
  {
   "cell_type": "code",
   "execution_count": 5,
   "metadata": {},
   "outputs": [],
   "source": [
    "data = data[data['is_focus']==1]"
   ]
  },
  {
   "cell_type": "code",
   "execution_count": 6,
   "metadata": {},
   "outputs": [
    {
     "data": {
      "text/plain": [
       "(90, 5)"
      ]
     },
     "execution_count": 6,
     "metadata": {},
     "output_type": "execute_result"
    }
   ],
   "source": [
    "data.shape"
   ]
  },
  {
   "cell_type": "markdown",
   "metadata": {},
   "source": [
    "## Pre SEO engagement analysis"
   ]
  },
  {
   "cell_type": "code",
   "execution_count": 10,
   "metadata": {},
   "outputs": [],
   "source": [
    "# filter date to range of before SEO\n",
    "before_seo = data[(data['visit_date']<'2019-01-01')] "
   ]
  },
  {
   "cell_type": "code",
   "execution_count": 18,
   "metadata": {},
   "outputs": [
    {
     "data": {
      "text/plain": [
       "40"
      ]
     },
     "execution_count": 18,
     "metadata": {},
     "output_type": "execute_result"
    }
   ],
   "source": [
    "# number of records\n",
    "before_seo.shape[0]"
   ]
  },
  {
   "cell_type": "code",
   "execution_count": 11,
   "metadata": {},
   "outputs": [
    {
     "data": {
      "text/html": [
       "<div>\n",
       "<style scoped>\n",
       "    .dataframe tbody tr th:only-of-type {\n",
       "        vertical-align: middle;\n",
       "    }\n",
       "\n",
       "    .dataframe tbody tr th {\n",
       "        vertical-align: top;\n",
       "    }\n",
       "\n",
       "    .dataframe thead th {\n",
       "        text-align: right;\n",
       "    }\n",
       "</style>\n",
       "<table border=\"1\" class=\"dataframe\">\n",
       "  <thead>\n",
       "    <tr style=\"text-align: right;\">\n",
       "      <th></th>\n",
       "      <th>visit_date</th>\n",
       "      <th>destinations</th>\n",
       "      <th>visitors</th>\n",
       "      <th>language</th>\n",
       "      <th>is_focus</th>\n",
       "    </tr>\n",
       "  </thead>\n",
       "  <tbody>\n",
       "    <tr>\n",
       "      <td>70</td>\n",
       "      <td>2018-06-01</td>\n",
       "      <td>acm</td>\n",
       "      <td>189.153254</td>\n",
       "      <td>en</td>\n",
       "      <td>1</td>\n",
       "    </tr>\n",
       "    <tr>\n",
       "      <td>487</td>\n",
       "      <td>2018-09-01</td>\n",
       "      <td>aak</td>\n",
       "      <td>44.926522</td>\n",
       "      <td>en</td>\n",
       "      <td>1</td>\n",
       "    </tr>\n",
       "    <tr>\n",
       "      <td>685</td>\n",
       "      <td>2018-10-01</td>\n",
       "      <td>acm</td>\n",
       "      <td>186.634010</td>\n",
       "      <td>en</td>\n",
       "      <td>1</td>\n",
       "    </tr>\n",
       "    <tr>\n",
       "      <td>1519</td>\n",
       "      <td>2018-05-01</td>\n",
       "      <td>aiw</td>\n",
       "      <td>82.295311</td>\n",
       "      <td>en</td>\n",
       "      <td>1</td>\n",
       "    </tr>\n",
       "    <tr>\n",
       "      <td>2077</td>\n",
       "      <td>2018-05-01</td>\n",
       "      <td>apy</td>\n",
       "      <td>91.322603</td>\n",
       "      <td>en</td>\n",
       "      <td>1</td>\n",
       "    </tr>\n",
       "  </tbody>\n",
       "</table>\n",
       "</div>"
      ],
      "text/plain": [
       "      visit_date destinations    visitors language  is_focus\n",
       "70    2018-06-01          acm  189.153254       en         1\n",
       "487   2018-09-01          aak   44.926522       en         1\n",
       "685   2018-10-01          acm  186.634010       en         1\n",
       "1519  2018-05-01          aiw   82.295311       en         1\n",
       "2077  2018-05-01          apy   91.322603       en         1"
      ]
     },
     "execution_count": 11,
     "metadata": {},
     "output_type": "execute_result"
    }
   ],
   "source": [
    "before_seo.head()"
   ]
  },
  {
   "cell_type": "code",
   "execution_count": 13,
   "metadata": {},
   "outputs": [
    {
     "data": {
      "text/plain": [
       "['acm', 'aak', 'aiw', 'apy', 'abd']"
      ]
     },
     "execution_count": 13,
     "metadata": {},
     "output_type": "execute_result"
    }
   ],
   "source": [
    "# get destinations\n",
    "list(before_seo.destinations.unique())"
   ]
  },
  {
   "cell_type": "code",
   "execution_count": 114,
   "metadata": {},
   "outputs": [],
   "source": [
    "# create a dataframe calculating visitors per destination \n",
    "before_destination = pd.DataFrame(before_seo.groupby(['destinations'])['visitors'].sum().reset_index(name = \"Total visitors before\"))"
   ]
  },
  {
   "cell_type": "code",
   "execution_count": 109,
   "metadata": {},
   "outputs": [
    {
     "data": {
      "image/png": "[encoded data removed]",
      "text/plain": [
       "<Figure size 576x432 with 1 Axes>"
      ]
     },
     "metadata": {
      "needs_background": "light"
     },
     "output_type": "display_data"
    }
   ],
   "source": [
    "# create and plot dataframe to show sum of visitors per month\n",
    "pd.DataFrame(before_seo.groupby(['visit_date'])['visitors'].sum().reset_index(name = \"Total visitors\")).plot(x=\"visit_date\", y=[\"Total visitors\"], kind=\"bar\",figsize=(8, 6)).get_figure().savefig('test.png')"
   ]
  },
  {
   "cell_type": "code",
   "execution_count": 110,
   "metadata": {},
   "outputs": [
    {
     "data": {
      "text/plain": [
       "<matplotlib.axes._subplots.AxesSubplot at 0x1a2891c4e0>"
      ]
     },
     "execution_count": 110,
     "metadata": {},
     "output_type": "execute_result"
    },
    {
     "data": {
      "image/png": "[encoded data removed]",
      "text/plain": [
       "<Figure size 576x432 with 1 Axes>"
      ]
     },
     "metadata": {
      "needs_background": "light"
     },
     "output_type": "display_data"
    }
   ],
   "source": [
    "# create dataframe to show average visitors per destination\n",
    "\n",
    "pd.DataFrame(before_seo.groupby(['destinations'])['visitors'].mean().reset_index(name = \"Average visitors before\")).plot(x=\"destinations\", y=[\"Average visitors before\"], kind=\"bar\",figsize=(8, 6))"
   ]
  },
  {
   "cell_type": "code",
   "execution_count": 24,
   "metadata": {},
   "outputs": [
    {
     "name": "stdout",
     "output_type": "stream",
     "text": [
      "The Total number of visitors before the seo engagement:3877.536738978306\n"
     ]
    }
   ],
   "source": [
    "print('The Total number of visitors before the seo engagement:{}'.format(before_seo['visitors'].sum()))"
   ]
  },
  {
   "cell_type": "markdown",
   "metadata": {},
   "source": [
    " "
   ]
  },
  {
   "cell_type": "markdown",
   "metadata": {},
   "source": [
    "## Post SEO engagement"
   ]
  },
  {
   "cell_type": "code",
   "execution_count": 25,
   "metadata": {},
   "outputs": [
    {
     "data": {
      "text/html": [
       "<div>\n",
       "<style scoped>\n",
       "    .dataframe tbody tr th:only-of-type {\n",
       "        vertical-align: middle;\n",
       "    }\n",
       "\n",
       "    .dataframe tbody tr th {\n",
       "        vertical-align: top;\n",
       "    }\n",
       "\n",
       "    .dataframe thead th {\n",
       "        text-align: right;\n",
       "    }\n",
       "</style>\n",
       "<table border=\"1\" class=\"dataframe\">\n",
       "  <thead>\n",
       "    <tr style=\"text-align: right;\">\n",
       "      <th></th>\n",
       "      <th>visit_date</th>\n",
       "      <th>destinations</th>\n",
       "      <th>visitors</th>\n",
       "      <th>language</th>\n",
       "      <th>is_focus</th>\n",
       "    </tr>\n",
       "  </thead>\n",
       "  <tbody>\n",
       "    <tr>\n",
       "      <td>467</td>\n",
       "      <td>2019-05-01</td>\n",
       "      <td>aak</td>\n",
       "      <td>77.256823</td>\n",
       "      <td>en</td>\n",
       "      <td>1</td>\n",
       "    </tr>\n",
       "    <tr>\n",
       "      <td>709</td>\n",
       "      <td>2019-02-01</td>\n",
       "      <td>aiw</td>\n",
       "      <td>113.365990</td>\n",
       "      <td>en</td>\n",
       "      <td>1</td>\n",
       "    </tr>\n",
       "    <tr>\n",
       "      <td>720</td>\n",
       "      <td>2019-08-01</td>\n",
       "      <td>aiw</td>\n",
       "      <td>95.311407</td>\n",
       "      <td>en</td>\n",
       "      <td>1</td>\n",
       "    </tr>\n",
       "    <tr>\n",
       "      <td>784</td>\n",
       "      <td>2019-01-01</td>\n",
       "      <td>apy</td>\n",
       "      <td>65.710287</td>\n",
       "      <td>en</td>\n",
       "      <td>1</td>\n",
       "    </tr>\n",
       "    <tr>\n",
       "      <td>1051</td>\n",
       "      <td>2019-04-01</td>\n",
       "      <td>aak</td>\n",
       "      <td>64.870539</td>\n",
       "      <td>en</td>\n",
       "      <td>1</td>\n",
       "    </tr>\n",
       "  </tbody>\n",
       "</table>\n",
       "</div>"
      ],
      "text/plain": [
       "      visit_date destinations    visitors language  is_focus\n",
       "467   2019-05-01          aak   77.256823       en         1\n",
       "709   2019-02-01          aiw  113.365990       en         1\n",
       "720   2019-08-01          aiw   95.311407       en         1\n",
       "784   2019-01-01          apy   65.710287       en         1\n",
       "1051  2019-04-01          aak   64.870539       en         1"
      ]
     },
     "execution_count": 25,
     "metadata": {},
     "output_type": "execute_result"
    }
   ],
   "source": [
    "# Select date range \n",
    "\n",
    "after_seo = data[(data['visit_date']>='2019-01-01')] \n",
    "after_seo.head()"
   ]
  },
  {
   "cell_type": "code",
   "execution_count": 113,
   "metadata": {},
   "outputs": [
    {
     "name": "stdout",
     "output_type": "stream",
     "text": [
      "The Total number of visitors before the seo engagement:5241.49755073478\n"
     ]
    }
   ],
   "source": [
    "print('The Total number of visitors before the seo engagement:{}'.format(after_seo['visitors'].sum()))"
   ]
  },
  {
   "cell_type": "code",
   "execution_count": 34,
   "metadata": {},
   "outputs": [
    {
     "data": {
      "text/plain": [
       "(50, 5)"
      ]
     },
     "execution_count": 34,
     "metadata": {},
     "output_type": "execute_result"
    }
   ],
   "source": [
    "after_seo.shape"
   ]
  },
  {
   "cell_type": "code",
   "execution_count": 29,
   "metadata": {},
   "outputs": [],
   "source": [
    "# create dataframe for total visitors after \n",
    "after_destination = pd.DataFrame(after_seo.groupby(['destinations'])['visitors'].sum().reset_index(name = \"Total visitors after\"))"
   ]
  },
  {
   "cell_type": "code",
   "execution_count": 37,
   "metadata": {},
   "outputs": [],
   "source": [
    "# merge dataframe with before seo on destinations \n",
    "\n",
    "\n",
    "post_destination = before_destination.merge(after_destination,on='destinations')"
   ]
  },
  {
   "cell_type": "code",
   "execution_count": 38,
   "metadata": {},
   "outputs": [],
   "source": [
    "# calculate percentage change\n",
    "\n",
    "post_destination['Percentage Change'] = (post_destination['Total visitors before'] - post_destination['Total visitors after'])/post_destination['Total visitors before'] * 100"
   ]
  },
  {
   "cell_type": "code",
   "execution_count": 39,
   "metadata": {},
   "outputs": [
    {
     "data": {
      "text/html": [
       "<div>\n",
       "<style scoped>\n",
       "    .dataframe tbody tr th:only-of-type {\n",
       "        vertical-align: middle;\n",
       "    }\n",
       "\n",
       "    .dataframe tbody tr th {\n",
       "        vertical-align: top;\n",
       "    }\n",
       "\n",
       "    .dataframe thead th {\n",
       "        text-align: right;\n",
       "    }\n",
       "</style>\n",
       "<table border=\"1\" class=\"dataframe\">\n",
       "  <thead>\n",
       "    <tr style=\"text-align: right;\">\n",
       "      <th></th>\n",
       "      <th>destinations</th>\n",
       "      <th>Total visitors before</th>\n",
       "      <th>Total visitors after</th>\n",
       "      <th>Percentage Change</th>\n",
       "    </tr>\n",
       "  </thead>\n",
       "  <tbody>\n",
       "    <tr>\n",
       "      <td>0</td>\n",
       "      <td>aak</td>\n",
       "      <td>391.952414</td>\n",
       "      <td>781.175647</td>\n",
       "      <td>-99.303696</td>\n",
       "    </tr>\n",
       "    <tr>\n",
       "      <td>1</td>\n",
       "      <td>abd</td>\n",
       "      <td>759.552134</td>\n",
       "      <td>1002.659202</td>\n",
       "      <td>-32.006633</td>\n",
       "    </tr>\n",
       "    <tr>\n",
       "      <td>2</td>\n",
       "      <td>acm</td>\n",
       "      <td>1355.773268</td>\n",
       "      <td>1615.045486</td>\n",
       "      <td>-19.123568</td>\n",
       "    </tr>\n",
       "    <tr>\n",
       "      <td>3</td>\n",
       "      <td>aiw</td>\n",
       "      <td>649.335199</td>\n",
       "      <td>1004.758572</td>\n",
       "      <td>-54.736502</td>\n",
       "    </tr>\n",
       "    <tr>\n",
       "      <td>4</td>\n",
       "      <td>apy</td>\n",
       "      <td>720.923723</td>\n",
       "      <td>837.858642</td>\n",
       "      <td>-16.220151</td>\n",
       "    </tr>\n",
       "  </tbody>\n",
       "</table>\n",
       "</div>"
      ],
      "text/plain": [
       "  destinations  Total visitors before  Total visitors after  Percentage Change\n",
       "0          aak             391.952414            781.175647         -99.303696\n",
       "1          abd             759.552134           1002.659202         -32.006633\n",
       "2          acm            1355.773268           1615.045486         -19.123568\n",
       "3          aiw             649.335199           1004.758572         -54.736502\n",
       "4          apy             720.923723            837.858642         -16.220151"
      ]
     },
     "execution_count": 39,
     "metadata": {},
     "output_type": "execute_result"
    }
   ],
   "source": [
    "post_destination"
   ]
  },
  {
   "cell_type": "code",
   "execution_count": 112,
   "metadata": {},
   "outputs": [
    {
     "data": {
      "text/plain": [
       "<matplotlib.axes._subplots.AxesSubplot at 0x1a29cfd978>"
      ]
     },
     "execution_count": 112,
     "metadata": {},
     "output_type": "execute_result"
    },
    {
     "data": {
      "image/png": "[encoded data removed]",
      "text/plain": [
       "<Figure size 576x432 with 1 Axes>"
      ]
     },
     "metadata": {
      "needs_background": "light"
     },
     "output_type": "display_data"
    }
   ],
   "source": [
    "# Plot visitors per destination\n",
    "\n",
    "post_destination.plot(x=\"destinations\", y=[\"Total visitors before\", \"Total visitors after\"], kind=\"bar\",figsize=(8, 6))"
   ]
  },
  {
   "cell_type": "code",
   "execution_count": 51,
   "metadata": {},
   "outputs": [],
   "source": [
    "# Calculate average per destination after SEO\n",
    "\n",
    "avg_dest_after = pd.DataFrame(after_seo.groupby(['destinations'])['visitors'].mean().reset_index(name = \"Average visitors after\"))"
   ]
  },
  {
   "cell_type": "code",
   "execution_count": 50,
   "metadata": {},
   "outputs": [],
   "source": [
    "#  Calculate average per destination before SEO\n",
    "\n",
    "avg_dest_before = pd.DataFrame(before_seo.groupby(['destinations'])['visitors'].mean().reset_index(name = \"Average visitors before\"))"
   ]
  },
  {
   "cell_type": "code",
   "execution_count": 55,
   "metadata": {},
   "outputs": [
    {
     "data": {
      "text/html": [
       "<div>\n",
       "<style scoped>\n",
       "    .dataframe tbody tr th:only-of-type {\n",
       "        vertical-align: middle;\n",
       "    }\n",
       "\n",
       "    .dataframe tbody tr th {\n",
       "        vertical-align: top;\n",
       "    }\n",
       "\n",
       "    .dataframe thead th {\n",
       "        text-align: right;\n",
       "    }\n",
       "</style>\n",
       "<table border=\"1\" class=\"dataframe\">\n",
       "  <thead>\n",
       "    <tr style=\"text-align: right;\">\n",
       "      <th></th>\n",
       "      <th>destinations</th>\n",
       "      <th>Average visitors before</th>\n",
       "      <th>Average visitors after</th>\n",
       "      <th>Increase/Decrease</th>\n",
       "    </tr>\n",
       "  </thead>\n",
       "  <tbody>\n",
       "    <tr>\n",
       "      <td>0</td>\n",
       "      <td>aak</td>\n",
       "      <td>48.994052</td>\n",
       "      <td>78.117565</td>\n",
       "      <td>29.123513</td>\n",
       "    </tr>\n",
       "    <tr>\n",
       "      <td>1</td>\n",
       "      <td>abd</td>\n",
       "      <td>94.944017</td>\n",
       "      <td>100.265920</td>\n",
       "      <td>5.321903</td>\n",
       "    </tr>\n",
       "    <tr>\n",
       "      <td>2</td>\n",
       "      <td>acm</td>\n",
       "      <td>169.471659</td>\n",
       "      <td>161.504549</td>\n",
       "      <td>-7.967110</td>\n",
       "    </tr>\n",
       "    <tr>\n",
       "      <td>3</td>\n",
       "      <td>aiw</td>\n",
       "      <td>81.166900</td>\n",
       "      <td>100.475857</td>\n",
       "      <td>19.308957</td>\n",
       "    </tr>\n",
       "    <tr>\n",
       "      <td>4</td>\n",
       "      <td>apy</td>\n",
       "      <td>90.115465</td>\n",
       "      <td>83.785864</td>\n",
       "      <td>-6.329601</td>\n",
       "    </tr>\n",
       "  </tbody>\n",
       "</table>\n",
       "</div>"
      ],
      "text/plain": [
       "  destinations  Average visitors before  Average visitors after  \\\n",
       "0          aak                48.994052               78.117565   \n",
       "1          abd                94.944017              100.265920   \n",
       "2          acm               169.471659              161.504549   \n",
       "3          aiw                81.166900              100.475857   \n",
       "4          apy                90.115465               83.785864   \n",
       "\n",
       "   Increase/Decrease  \n",
       "0          29.123513  \n",
       "1           5.321903  \n",
       "2          -7.967110  \n",
       "3          19.308957  \n",
       "4          -6.329601  "
      ]
     },
     "execution_count": 55,
     "metadata": {},
     "output_type": "execute_result"
    }
   ],
   "source": [
    "# Merge two dataframes in cells above\n",
    "\n",
    "average_destination = avg_dest_before.merge(avg_dest_after,on='destinations')\n",
    "average_destination['Increase/Decrease'] = (average_destination['Average visitors after']-average_destination['Average visitors before'])\n",
    "average_destination"
   ]
  },
  {
   "cell_type": "code",
   "execution_count": 111,
   "metadata": {},
   "outputs": [
    {
     "data": {
      "text/plain": [
       "<matplotlib.axes._subplots.AxesSubplot at 0x1a2894b518>"
      ]
     },
     "execution_count": 111,
     "metadata": {},
     "output_type": "execute_result"
    },
    {
     "data": {
      "image/png": "[encoded data removed]",
      "text/plain": [
       "<Figure size 576x432 with 1 Axes>"
      ]
     },
     "metadata": {
      "needs_background": "light"
     },
     "output_type": "display_data"
    }
   ],
   "source": [
    "# Average Destination visitors  plot\n",
    "\n",
    "average_destination.plot(x=\"destinations\", y=[\"Average visitors before\", \"Average visitors after\"], kind=\"bar\",figsize=(8, 6))"
   ]
  },
  {
   "cell_type": "markdown",
   "metadata": {},
   "source": [
    "From the table above destinations **aak, abd, aiw** had an increase in average monthly visitors.\n",
    "\n",
    "Destinations **acm** and **apy** has a decrease in monthly visitors"
   ]
  },
  {
   "cell_type": "code",
   "execution_count": 82,
   "metadata": {},
   "outputs": [
    {
     "name": "stdout",
     "output_type": "stream",
     "text": [
      "The average number of visitors before the SEO was 96.93841847445769 and after the SEO it was 104.82995101469561\n"
     ]
    }
   ],
   "source": [
    "print('The average number of visitors before the SEO was {0} and after the SEO it was {1}'.format(before_seo['visitors'].mean(),after_seo['visitors'].mean()))"
   ]
  },
  {
   "cell_type": "markdown",
   "metadata": {},
   "source": [
    "## Questions"
   ]
  },
  {
   "cell_type": "markdown",
   "metadata": {},
   "source": [
    "#### 1- Are you able to determine whether the efforts of the off-page SEO team were successful? "
   ]
  },
  {
   "cell_type": "markdown",
   "metadata": {},
   "source": [
    "The efforts of the SEO team were successful for some destination sites (aak, abd, aiw) as we noticed an increase in average monthly visitors, while on some destinations (acm, apy) had a slight drop.\n",
    "\n",
    "Generally before the SEO there was an average monthly visit of 96.94 and after the SEO there was a increase in to 104.83.\n",
    "\n",
    "From the conclusions drawn the SEO team were successful."
   ]
  },
  {
   "cell_type": "markdown",
   "metadata": {},
   "source": [
    "#### 2- If you believe the provided dataset is not enough to answer the question, what other data points would you want to look at? Why?"
   ]
  },
  {
   "cell_type": "markdown",
   "metadata": {},
   "source": [
    "Bounce rate - To get more sense on the traffic drawn to the page, to know if they navigated away after landing on the page"
   ]
  },
  {
   "cell_type": "markdown",
   "metadata": {},
   "source": [
    "## Visualisation of visits"
   ]
  },
  {
   "cell_type": "code",
   "execution_count": 57,
   "metadata": {},
   "outputs": [],
   "source": [
    "import matplotlib.pyplot as plt\n",
    "import seaborn as sns"
   ]
  },
  {
   "cell_type": "code",
   "execution_count": 61,
   "metadata": {},
   "outputs": [],
   "source": [
    "data = data.set_index('visit_date')"
   ]
  },
  {
   "cell_type": "code",
   "execution_count": 62,
   "metadata": {},
   "outputs": [
    {
     "data": {
      "text/html": [
       "<div>\n",
       "<style scoped>\n",
       "    .dataframe tbody tr th:only-of-type {\n",
       "        vertical-align: middle;\n",
       "    }\n",
       "\n",
       "    .dataframe tbody tr th {\n",
       "        vertical-align: top;\n",
       "    }\n",
       "\n",
       "    .dataframe thead th {\n",
       "        text-align: right;\n",
       "    }\n",
       "</style>\n",
       "<table border=\"1\" class=\"dataframe\">\n",
       "  <thead>\n",
       "    <tr style=\"text-align: right;\">\n",
       "      <th></th>\n",
       "      <th>destinations</th>\n",
       "      <th>visitors</th>\n",
       "      <th>language</th>\n",
       "      <th>is_focus</th>\n",
       "    </tr>\n",
       "    <tr>\n",
       "      <th>visit_date</th>\n",
       "      <th></th>\n",
       "      <th></th>\n",
       "      <th></th>\n",
       "      <th></th>\n",
       "    </tr>\n",
       "  </thead>\n",
       "  <tbody>\n",
       "    <tr>\n",
       "      <td>2018-06-01</td>\n",
       "      <td>acm</td>\n",
       "      <td>189.153254</td>\n",
       "      <td>en</td>\n",
       "      <td>1</td>\n",
       "    </tr>\n",
       "    <tr>\n",
       "      <td>2019-05-01</td>\n",
       "      <td>aak</td>\n",
       "      <td>77.256823</td>\n",
       "      <td>en</td>\n",
       "      <td>1</td>\n",
       "    </tr>\n",
       "  </tbody>\n",
       "</table>\n",
       "</div>"
      ],
      "text/plain": [
       "           destinations    visitors language  is_focus\n",
       "visit_date                                            \n",
       "2018-06-01          acm  189.153254       en         1\n",
       "2019-05-01          aak   77.256823       en         1"
      ]
     },
     "execution_count": 62,
     "metadata": {},
     "output_type": "execute_result"
    }
   ],
   "source": [
    "data.head(2)"
   ]
  },
  {
   "cell_type": "code",
   "execution_count": 67,
   "metadata": {},
   "outputs": [],
   "source": [
    "data_plot = data[['visitors']]"
   ]
  },
  {
   "cell_type": "code",
   "execution_count": 68,
   "metadata": {},
   "outputs": [
    {
     "data": {
      "text/html": [
       "<div>\n",
       "<style scoped>\n",
       "    .dataframe tbody tr th:only-of-type {\n",
       "        vertical-align: middle;\n",
       "    }\n",
       "\n",
       "    .dataframe tbody tr th {\n",
       "        vertical-align: top;\n",
       "    }\n",
       "\n",
       "    .dataframe thead th {\n",
       "        text-align: right;\n",
       "    }\n",
       "</style>\n",
       "<table border=\"1\" class=\"dataframe\">\n",
       "  <thead>\n",
       "    <tr style=\"text-align: right;\">\n",
       "      <th></th>\n",
       "      <th>visitors</th>\n",
       "    </tr>\n",
       "    <tr>\n",
       "      <th>visit_date</th>\n",
       "      <th></th>\n",
       "    </tr>\n",
       "  </thead>\n",
       "  <tbody>\n",
       "    <tr>\n",
       "      <td>2018-06-01</td>\n",
       "      <td>189.153254</td>\n",
       "    </tr>\n",
       "    <tr>\n",
       "      <td>2019-05-01</td>\n",
       "      <td>77.256823</td>\n",
       "    </tr>\n",
       "    <tr>\n",
       "      <td>2018-09-01</td>\n",
       "      <td>44.926522</td>\n",
       "    </tr>\n",
       "    <tr>\n",
       "      <td>2018-10-01</td>\n",
       "      <td>186.634010</td>\n",
       "    </tr>\n",
       "    <tr>\n",
       "      <td>2019-02-01</td>\n",
       "      <td>113.365990</td>\n",
       "    </tr>\n",
       "  </tbody>\n",
       "</table>\n",
       "</div>"
      ],
      "text/plain": [
       "              visitors\n",
       "visit_date            \n",
       "2018-06-01  189.153254\n",
       "2019-05-01   77.256823\n",
       "2018-09-01   44.926522\n",
       "2018-10-01  186.634010\n",
       "2019-02-01  113.365990"
      ]
     },
     "execution_count": 68,
     "metadata": {},
     "output_type": "execute_result"
    }
   ],
   "source": [
    "data_plot.head()"
   ]
  },
  {
   "cell_type": "code",
   "execution_count": 74,
   "metadata": {},
   "outputs": [],
   "source": [
    "data_plot = pd.DataFrame(data_plot.groupby(['visit_date'])['visitors'].sum())"
   ]
  },
  {
   "cell_type": "code",
   "execution_count": 85,
   "metadata": {},
   "outputs": [
    {
     "data": {
      "text/plain": [
       "<matplotlib.axes._subplots.AxesSubplot at 0x1a26e542b0>"
      ]
     },
     "execution_count": 85,
     "metadata": {},
     "output_type": "execute_result"
    },
    {
     "data": {
      "image/png": "[encoded data removed]",
      "text/plain": [
       "<Figure size 1440x720 with 1 Axes>"
      ]
     },
     "metadata": {
      "needs_background": "light"
     },
     "output_type": "display_data"
    }
   ],
   "source": [
    "data_plot.plot(figsize=(20,10),title='Time series of visitors per month')"
   ]
  },
  {
   "cell_type": "markdown",
   "metadata": {},
   "source": [
    "The time series plot above shows the **total** visitors per month"
   ]
  },
  {
   "cell_type": "code",
   "execution_count": null,
   "metadata": {},
   "outputs": [],
   "source": []
  }
 ],
 "metadata": {
  "kernelspec": {
   "display_name": "Python 3",
   "language": "python",
   "name": "python3"
  },
  "language_info": {
   "codemirror_mode": {
    "name": "ipython",
    "version": 3
   },
   "file_extension": ".py",
   "mimetype": "text/x-python",
   "name": "python",
   "nbconvert_exporter": "python",
   "pygments_lexer": "ipython3",
   "version": "3.7.1"
  }
 },
 "nbformat": 4,
 "nbformat_minor": 2
}
